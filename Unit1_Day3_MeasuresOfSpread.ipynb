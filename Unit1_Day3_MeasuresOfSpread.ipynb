{
 "cells": [
  {
   "cell_type": "markdown",
   "metadata": {
    "deletable": true,
    "editable": true
   },
   "source": [
    "# Calculating the spread of our dataset\n",
    "\n",
    "Let's calculate the variance and standard deviation of our dataset using Python!"
   ]
  },
  {
   "cell_type": "markdown",
   "metadata": {
    "deletable": true,
    "editable": true
   },
   "source": [
    "Copy and paste the weights list here:"
   ]
  },
  {
   "cell_type": "code",
   "execution_count": 4,
   "metadata": {
    "collapsed": true,
    "deletable": true,
    "editable": true
   },
   "outputs": [],
   "source": [
    "weights = [1.76, 1.76, 1.73, 1.76, 1.76, 1.76, 1.69, 1.76, 1.69, 1.76, 1.73, 1.69, 1.73, 1.69, 1.76, 1.76, 1.76, 1.76, 1.73, 1.80]"
   ]
  },
  {
   "cell_type": "markdown",
   "metadata": {
    "deletable": true,
    "editable": true
   },
   "source": [
    "We're going to need to use the mean for our calculations. So let's import numpy as np and store the mean of the data in a variable:"
   ]
  },
  {
   "cell_type": "code",
   "execution_count": 13,
   "metadata": {
    "collapsed": false,
    "deletable": true,
    "editable": true
   },
   "outputs": [
    {
     "data": {
      "text/plain": [
       "1.7419999999999998"
      ]
     },
     "execution_count": 13,
     "metadata": {},
     "output_type": "execute_result"
    }
   ],
   "source": [
    "import numpy as np\n",
    "np.mean(weights)"
   ]
  },
  {
   "cell_type": "markdown",
   "metadata": {
    "deletable": true,
    "editable": true
   },
   "source": [
    "Next, let's find the variance of our data. Recall that the variance is the average of the \"squared differences\" of a dataset (the squared difference of a value is that value subtracted from the mean of the whole dataset, squared).\n",
    "\n",
    "Here are some hints:\n",
    "1. You'll need to make a list of squared differences (it can start out as an empty list)\n",
    "2. You'll need to refer to the variable you just created\n",
    "3. You can square a value in Python by adding **2\n",
    "4. Since you need to do the same calculation to every value in your lists, you'll need a for loop\n",
    "\n",
    "When you're finished, store the variance of this dataset in a new variable."
   ]
  },
  {
   "cell_type": "code",
   "execution_count": 19,
   "metadata": {
    "collapsed": false,
    "deletable": true,
    "editable": true
   },
   "outputs": [
    {
     "name": "stdout",
     "output_type": "stream",
     "text": [
      "0.00092\n"
     ]
    }
   ],
   "source": [
    "squared = []\n",
    "for value in weights:\n",
    "    squared.append((value-mean)**2)\n",
    "variance=np.mean(squared)\n",
    "print(variance)"
   ]
  },
  {
   "cell_type": "markdown",
   "metadata": {
    "deletable": true,
    "editable": true
   },
   "source": [
    "Next, let's print out the standard deviation for our data. All we have to do is find the square root of the variance. \n",
    "\n",
    "Hints:\n",
    "1. You can find the square root of a value by typing **0.5\n",
    "2. You'll need to use the variance variable you just created"
   ]
  },
  {
   "cell_type": "code",
   "execution_count": 15,
   "metadata": {
    "collapsed": false,
    "deletable": true,
    "editable": true
   },
   "outputs": [
    {
     "name": "stdout",
     "output_type": "stream",
     "text": [
      "0.0303315017762\n"
     ]
    }
   ],
   "source": [
    "snakes = (variance**0.5)\n",
    "print(snakes)"
   ]
  },
  {
   "cell_type": "markdown",
   "metadata": {
    "deletable": true,
    "editable": true
   },
   "source": [
    "Congratulations! You've calculated some important statistics today!\n",
    "\n",
    "Functions just like these have already been written and included in the Numpy library. You alread know about np.mean, but there's also np.var and np.std. \n",
    "\n",
    "Print out the results of the Numpy variance and standard deviation functions and see if your results are correct!"
   ]
  },
  {
   "cell_type": "code",
   "execution_count": 16,
   "metadata": {
    "collapsed": false,
    "deletable": true,
    "editable": true
   },
   "outputs": [
    {
     "name": "stdout",
     "output_type": "stream",
     "text": [
      "0.000916\n",
      "0.0302654919008\n"
     ]
    }
   ],
   "source": [
    "print(np.var(weights))\n",
    "print(np.std(weights))"
   ]
  },
  {
   "cell_type": "markdown",
   "metadata": {
    "deletable": true,
    "editable": true
   },
   "source": [
    "Now, let's make a graph to visualize the spread of our data. We'll use another library called matplotlib.\n",
    "Run the code below:"
   ]
  },
  {
   "cell_type": "code",
   "execution_count": 10,
   "metadata": {
    "collapsed": false,
    "deletable": true,
    "editable": true
   },
   "outputs": [
    {
     "data": {
      "image/png": "[encoded data removed]",
      "text/plain": [
       "<matplotlib.figure.Figure at 0x11008c518>"
      ]
     },
     "metadata": {},
     "output_type": "display_data"
    }
   ],
   "source": [
    "import matplotlib.pyplot as plt\n",
    "\n",
    "# Create a histogram\n",
    "plt.hist(weights, 12, range = [1,2])\n",
    "\n",
    "# Add a title and axis labels\n",
    "plt.suptitle(\"M&M Weights\")\n",
    "plt.xlabel(\"Weight\")\n",
    "plt.ylabel(\"Number of M&M bags\")\n",
    "\n",
    "# Show the graph\n",
    "plt.show()"
   ]
  }
 ],
 "metadata": {
  "kernelspec": {
   "display_name": "Python 3",
   "language": "python",
   "name": "python3"
  },
  "language_info": {
   "codemirror_mode": {
    "name": "ipython",
    "version": 3
   },
   "file_extension": ".py",
   "mimetype": "text/x-python",
   "name": "python",
   "nbconvert_exporter": "python",
   "pygments_lexer": "ipython3",
   "version": "3.5.2"
  }
 },
 "nbformat": 4,
 "nbformat_minor": 2
}
