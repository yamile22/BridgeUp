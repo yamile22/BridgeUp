{
 "cells": [
  {
   "cell_type": "markdown",
   "metadata": {
    "deletable": true,
    "editable": true
   },
   "source": [
    "# Final Projects: Calculating evolutionary distance\n",
    "\n",
    "In this notebook you will compare the amino acid sequence of hemoglobin alpha from 3 different species to find out which two are most closely related."
   ]
  },
  {
   "cell_type": "markdown",
   "metadata": {
    "deletable": true,
    "editable": true
   },
   "source": [
    "You'll need to copy and paste the function from last class that finds the number of differences in two sequences:"
   ]
  },
  {
   "cell_type": "code",
   "execution_count": 14,
   "metadata": {
    "collapsed": true,
    "deletable": true,
    "editable": true
   },
   "outputs": [],
   "source": [
    "def DNAFunc(DNA):\n",
    "    RNAdict = {\"A\":\"U\",\"T\":\"A\",\"G\":\"C\",\"C\":\"G\"}\n",
    "    s = \"\"\n",
    "    for base in DNA:\n",
    "        s += RNAdict[base]\n",
    "    return s"
   ]
  },
  {
   "cell_type": "code",
   "execution_count": 15,
   "metadata": {
    "collapsed": true,
    "deletable": true,
    "editable": true
   },
   "outputs": [],
   "source": [
    "def aminoacid(condon):\n",
    "    amino_acids_list = {\"UUU\":\"F\", \"UUC\":\"F\", \"UUA\":\"L\", \"UUG\":\"L\", \"CUU\":\"L\", \"CUC\":\"L\", \"CUA\":\"L\", \"CUG\":\"L\", \"AUU\":\"I\", \"AUC\":\"I\", \"AUA\":\"I\", \"AUG\":\"M\", \"GUU\":\"V\", \"GUC\":\"V\", \"GUA\":\"V\", \"GUG\":\"V\", \"UCU\":\"S\", \"UCC\":\"S\", \"UCA\":\"S\", \"UCG\":\"S\", \"CCU\":\"P\", \"CCC\":\"P\", \"CCA\":\"P\", \"CCG\":\"P\", \"ACU\":\"T\", \"ACC\":\"T\", \"ACA\":\"T\", \"ACG\":\"T\", \"GCU\":\"A\", \"GCC\":\"A\", \"GCA\":\"A\", \"GCG\":\"A\", \"UAU\":\"Y\", \"UAC\":\"Y\", \"UAA\":\"X\", \"UAG\":\"X\", \"CAU\":\"H\", \"CAC\":\"H\", \"CAA\":\"Q\", \"CAG\":\"Q\", \"AAU\": \"N\", \"AAC\":\"N\", \"AAA\":\"K\", \"AAG\":\"K\", \"GAU\":\"D\", \"GAC\":\"D\", \"GAA\":\"E\", \"GAG\":\"E\", \"UGU\":\"C\", \"UGC\":\"C\", \"UGA\":\"X\", \"UGG\":\"W\", \"CGU\":\"R\", \"CGC\":\"R\", \"CGA\":\"R\", \"CGG\":\"R\", \"AGU\":\"S\", \"AGC\":\"S\", \"AGA\":\"R\", \"AGG\":\"R\", \"GGU\":\"G\", \"GGC\":\"G\", \"GGA\":\"G\", \"GGG\":\"G\"} \n",
    "    con = \"\"\n",
    "    prote = \"\"\n",
    "    for base in condon:\n",
    "        con += base\n",
    "        if len(con) ==3:\n",
    "            prote += amino_acids_list[con]\n",
    "            con = \"\"\n",
    "    return prote"
   ]
  },
  {
   "cell_type": "code",
   "execution_count": 16,
   "metadata": {
    "collapsed": true,
    "deletable": true,
    "editable": true
   },
   "outputs": [],
   "source": [
    "def difFun(b1, b2):\n",
    "    difFun = 0\n",
    "    for i, aa in enumerate(b1):\n",
    "        if b2[i] != aa:\n",
    "            difFun += 1\n",
    "    print(\"There are\",difFun,\"differences\")"
   ]
  },
  {
   "cell_type": "markdown",
   "metadata": {
    "deletable": true,
    "editable": true
   },
   "source": [
    "In order to compare the different amino acid sequences, we need to open the files and read the sequences into new variables:"
   ]
  },
  {
   "cell_type": "code",
   "execution_count": 17,
   "metadata": {
    "collapsed": false,
    "deletable": true,
    "editable": true
   },
   "outputs": [
    {
     "name": "stdout",
     "output_type": "stream",
     "text": [
      "1140\n",
      "1140\n",
      "1140\n"
     ]
    }
   ],
   "source": [
    "DNA_H = open(\"5_hedgehog_CYTB_DNA.txt\").read()\n",
    "DNA_M = open(\"5_mouse_CYTB_DNA.txt\").read()\n",
    "DNA_R = open(\"5_rabbit_CYTB_DNA.txt\").read()\n",
    "print(len(DNA_H))\n",
    "print(len(DNA_M))\n",
    "print(len(DNA_R))"
   ]
  },
  {
   "cell_type": "code",
   "execution_count": 18,
   "metadata": {
    "collapsed": false,
    "deletable": true,
    "editable": true,
    "scrolled": true
   },
   "outputs": [
    {
     "name": "stdout",
     "output_type": "stream",
     "text": [
      "TACGATTTATAAGCTTTTTATGTAGGTGATAATTTTTAACAATTATTAAGAGAGTAACTGAATGGGTGGGGAAGTTTGTAAAGAAGAACTACTTTGAAACCAAGTAATGATCCGGACACGAATTAATAAGTTTAGTGATGTCCGAATAAAGATCGGTATGTAATGTGACGTCTATGTGAGAGTCGTAAAAGTAGTCATAGGGTATAAACGGCTCTGCATTTAATGCCGACTGATTAGGCGATGAATGTGCGATTACCACGGAGTTATAAAAAATAGACGAATAAATATGTGTAACCTGCTCCGTAAATAATACCTAGAATGAATAAATTTCTTTGTACTTTATAACCTTAATAAGATAATTAATGGTGTTATCGATGTCGTAAATATCCTATACATGATGGTACTCCCGTCTATAGAAAGACTCCACGATGTCAATAGTGTTTGAATAATAGACGATAGGGGATGTAGCCTTGTCTAAATCAAGTTACTTAGACTCCTCGTAAAAGTCATCTATTTCGATGGGATTGTGCAAAAAAGCGTGAAGTAAAGTAGGAAGGAAAATATTAATATCGTAATTGTTATTAAGTGGATAATAAGGAAGTACTTTGGCCGAGATTATTGGGTTGTCCTTAATAGAGTCTTAGACTTTTTTAAGGTAAGGTAGGAATAATATGATAATTTCTGTAAAATCCATATTAGAATGATTAATATTATAATTGATAGAATTGTGATAAAAGGGGTCTGAATAATTCGCTGGGTCTGTTAATATGGGGTCGATTAGGAAATTTATGGGGAGGAGTATAATTTGGACTTACTATGAAAAATAAACGGATACGTTAAGAGGCTAGATAGGGATTGTTTGAACCTCCTCATTATCGTGATAAATATAGATAAGAATAGAATAAGAAGTATGGGGATAATGTATGAAGATTTGTTGCTTCGTATTATAAGGCTGGGGATTCGGTTACGTAAAAGACTTAAGATTAGAGTCTAAATGATTAGGATTGTACTTAGCCTTCGGTTGGACATCTTTTAGGTATATAATAATAGCCGGTTAATCGGAGTCAGAAAATAAAGAAATAGTAAGAATAAAATTATGGGAATAGTCCAGAATAGCTTTTAGTATATAAATTTACTTCC\n"
     ]
    }
   ],
   "source": [
    "print(DNA_H)"
   ]
  },
  {
   "cell_type": "code",
   "execution_count": 19,
   "metadata": {
    "collapsed": false,
    "deletable": true,
    "editable": true
   },
   "outputs": [
    {
     "name": "stdout",
     "output_type": "stream",
     "text": [
      "TACTGTTAGTATGCTTTTAGTGTGGGTGATAATTTCTAGTAATTGGTGAGGAAGTAGCTAGATGGGCGGGGAAGGTTGTAAAGTAGTACTACTTTGAAACCCAGAGACGATCCTTAGACGGATTATCAGGTTTAGGAGTGTCCGGATAAGAATCGATATGTGATGTGTAGTCTGTGTTATTGTCGGAAGAGTAGTCATTGTGTATAGACGGCTCTACATTTGATACCTACTAATTAGGCTATAAATGTGCGGTTGCCTCGGAGGTATAAGAAATAGACGGATAAGAATGTGCATCCTGCCCCCTACATGATGCCTAGAATATGTAAGTATCTTTGTACTTTATAACCTCAATAAGATAATAAACGTCATTATCGGTGACGTAAATATCCAATACAAGAAGGTACTCCTGTTTATAGTAAAACTCCTCGATGTCATTAGTGTTTGGAAGATAGTCGGTAAGGTATACATCCTTGGTGAAATCATCTTACTTAGACTCCGCCTAAGAGTCATCTATTCCGGTGGGATTGAGCTAAAAAGCGAAAGGTGAAATAGGATGGTAAGTAATAACGTCGTGATCATTAACAGGTGGAGGAAAAGGAAGTGCTTTGTCCTAGGTTATTGGGGTGTCCGGAATTGAGACTGCGGCTGTTTTAGGGTAAAGTGGGAATGATATGGTAGTTTCTGTAGGATCCACAGGATTATTATAAGGATAAAGAATATTGAGATCAAGAAAAGAAGGGTCTGTATGATCCTCTAGGACTATTAATATATGGTCGGTTGGGTGATTTGTGTGGTGGAGTATAGTTCGGTCTTGCTATAAAGAATAAACGTATACGGTAGGATGCAAGTTAGGGGTTATTTGATCCTCCTCAGGATCGGGATTAAAATAGGTAGAATTAGGATCGGGATGAGGGTAAAGAGGTATGTAGGTTTGTTGCTTCGGATTATAAGGCGGGTTAGTGGGTTCGAGATATGACTTAAGAACATCAGTTGGATGACTAGGAGTGGACTTAACCGCCAGTTGGTCATCTTGTGGGTAAGTAGTAATAGCCGGTTGATCGGAGGTAGAGAATGAAGTGATAATAACAATAAGAATATGGTTAGCGTCCTTAATAACTTCTATTTAATGATTTTGAGATG\n"
     ]
    }
   ],
   "source": [
    "print(DNA_M)"
   ]
  },
  {
   "cell_type": "code",
   "execution_count": 20,
   "metadata": {
    "collapsed": false,
    "deletable": true,
    "editable": true
   },
   "outputs": [
    {
     "name": "stdout",
     "output_type": "stream",
     "text": [
      "TACTGGTTGTAAGCGTTTTGGGTGGGGGATAATTTTTAACAATTGGTGAGGGATTAACTGGAAGGACGAGGTAGTTTGTAGAGACGGACTACTTTGAAACCGAGAGATGATCCGGACACGGAATATTAAGTTTAAAAGTGACCGGATAAGAATCGGTATGTGATGTGGAGACTGTGTTGTTGTCGTAAGAGTAGTCATTGGGTATAAACGGCTCTACAATTGATACCGACTGAATAGGCTATGGAGGTGCGATTGCCTCGTAGATATAAGAAATAAACGGAGATGTATGTGCATCCGGCGCCTTAGATGATACCTAGTATGTGTATGGATCTCTGGACTTTGTAACCGTAGTAGGAGGATAAGCGTCATTATCGGTGTCGTAAATAGCCAATACAGGAGGGTACTCCTGTTTATAGTAATACCCCTCGTTGGCATTAGTGATTGGAGGATAGTCGTTAGGGTATATAGCCTTGTTGGAATCAACTTACTTAGACTCCTCCTAAAAGTCAACTATTTCGGTGAGAATGGGCTAAGAAGCGAAAAGTGAAGTAGAACGGTAAATAGTAACGTTGAAATCAGAATTAAGTGGAGGAGAAAGATGTACTTTGACCGAGGTTGTTGGGTTGTCCTTAAGGAAGTTTGAGTCTATTTTAGGGAAAGGTGGGGATGATGTGTTAGTTTCTGTGGGATCCAAAGGAACATCGGTAAGAAGAGGAGGAATAAAATCAGGATAAAAGTGGTCTGGATAATCCTCTGGGTCTGTTGATGTGGGGACGGTTGGGGGAATTATGGGGAGGGGTATAGTTTGGTCTTACTATGAAAGATAAACGGATGCGATAGGATGCGAGATAAGGTTTATTTGAGCCTCCTCAGGATCGAGATCAGGATAGGTAGGAACAAGATCGGAAGTAGGGTAAGGAAGTATACAGATTTGTTGCATCGTACTATAAGGCTGGGTAATCAGTTCAGGATAAGACTCAAGAGCAGCGTCTAGAAGAGTGTGAGTGTACTTAGCCTCCGGTTGGTCATCTTGTGGGCAAGTAGTGGTAACCTGTTCATCGTAGACAGGAGATGAAGAGGTGGTAGGAATAAGAATATGGGGAGCGTTCGGATTAGCTTTTGTTTTAGGAGTTTACTTCC\n"
     ]
    }
   ],
   "source": [
    "print(DNA_R)"
   ]
  },
  {
   "cell_type": "markdown",
   "metadata": {
    "deletable": true,
    "editable": true
   },
   "source": [
    "Decide as a group whether you want to compare DNA or protein sequences for your species. What are the pros and cons of each?"
   ]
  },
  {
   "cell_type": "code",
   "execution_count": 21,
   "metadata": {
    "collapsed": false,
    "deletable": true,
    "editable": true
   },
   "outputs": [],
   "source": [
    "# If you choose to use the transcribe and translate functions, you can copy and paste them here\n"
   ]
  },
  {
   "cell_type": "markdown",
   "metadata": {
    "deletable": true,
    "editable": true
   },
   "source": [
    "Now call the number of differences function 3 times to compare all three of your species' sequences."
   ]
  },
  {
   "cell_type": "code",
   "execution_count": 22,
   "metadata": {
    "collapsed": false,
    "deletable": true,
    "editable": true
   },
   "outputs": [
    {
     "name": "stdout",
     "output_type": "stream",
     "text": [
      "380\n",
      "380\n",
      "380\n"
     ]
    }
   ],
   "source": [
    "pro_H = aminoacid(DNAFunc(DNA_H))\n",
    "pro_M = aminoacid(DNAFunc(DNA_M))\n",
    "pro_R = aminoacid(DNAFunc(DNA_R))\n",
    "print(len(pro_H ))\n",
    "print(len(pro_M ))\n",
    "print(len(pro_R ))"
   ]
  },
  {
   "cell_type": "code",
   "execution_count": 23,
   "metadata": {
    "collapsed": false,
    "deletable": true,
    "editable": true
   },
   "outputs": [
    {
     "name": "stdout",
     "output_type": "stream",
     "text": [
      "MLNIRKIHPLLKIVNNSLIDLPTPSNISSXXNFGSLLGLCLIIQITTGLFLAIHYTADTLSAFSSVSHICRDVNYGXLIRYLHANGASIFFICLFIHIGRGIYYGSYLFKETXNIGIILLITTIATAFIGYVLPXGQISFXGATVITNLLSAIPYIGTDLVQXIXGAFSVDKATLTRFFALHFILPFIIIALTIIHLLFLHETGSNNPTGIISESEKIPFHPYYTIKDILGIILLIIILTILTLFSPDLLSDPDNYTPANPLNTPPHIKPEXYFLFAYAILRSIPNKLGGVIALFISILILFFIPLLHTSKQRSIIFRPLSQCIFXILISDLLILTXIGSQPVENPYIIIGQLASVFYFFIILILIPLSGLIENHIFKXR\n"
     ]
    }
   ],
   "source": [
    "print(pro_H)\n"
   ]
  },
  {
   "cell_type": "code",
   "execution_count": 27,
   "metadata": {
    "collapsed": false,
    "deletable": true,
    "editable": true,
    "scrolled": true
   },
   "outputs": [
    {
     "name": "stdout",
     "output_type": "stream",
     "text": [
      "MTIIRKSHPLLKIINHSFIDLPAPSNISSXXNFGSLLGICLIVQILTGLFLAIHYTSDTITAFSSVTHICRDVNYGXLIRYLHANGASIFFICLFLHVGRGMYYGSYTFIETXNIGVILLFAVIATAFIGYVLPXGQISFXGATVITNLLSAIPYVGTTLVEXIXGGFSVDKATLTRFFAFHFILPFIIAALVIVHLLFLHETGSNNPTGLNSDADKIPFHPYYTIKDILGVLIIFLFLITLVLFFPDILGDPDNYIPANPLNTPPHIKPERYFLFAYAILRSIPNKLGGVLALILSILILALLPFLHTSKQRSLIFRPITQALYXILVVNLLILTXIGGQPVEHPFIIIGQLASISYFTIIVILIPIAGIIEDKLLKLY\n"
     ]
    }
   ],
   "source": [
    "print(pro_M)\n"
   ]
  },
  {
   "cell_type": "code",
   "execution_count": 28,
   "metadata": {
    "collapsed": false,
    "deletable": true,
    "editable": true
   },
   "outputs": [
    {
     "name": "stdout",
     "output_type": "stream",
     "text": [
      "MTNIRKTHPLLKIVNHSLIDLPAPSNISAXXNFGSLLGLCLIIQIFTGLFLAIHYTSDTTTAFSSVTHICRDVNYGXLIRYLHANGASIFFICLYIHVGRGIYYGSYTYLETXNIGIILLFAVIATAFIGYVLPXGQISLWGATVITNLLSAIPYIGTTLVEXIXGGFSVDKATLTRFFAFHFILPFIIATLVLIHLLFLHETGSNNPTGIPSNSDKIPFHPYYTIKDTLGFLVAILLLLILVLFSPDLLGDPDNYTPANPLNTPPHIKPEXYFLFAYAILRSIPNKLGGVLALVLSILVLAFIPFLHMSKQRSMIFRPISQVLFXVLVADLLTLTXIGGQPVEHPFITIGQVASVLYFSTILILIPLASLIENKILKXR\n"
     ]
    }
   ],
   "source": [
    "print(pro_R)"
   ]
  },
  {
   "cell_type": "markdown",
   "metadata": {
    "deletable": true,
    "editable": true
   },
   "source": [
    "What can you conclude based on the number of differences between each pair of species?\n",
    "\n",
    "Next, create a function that returns the percent difference between sequences and call it for your three comparisons:"
   ]
  },
  {
   "cell_type": "code",
   "execution_count": 26,
   "metadata": {
    "collapsed": false,
    "deletable": true,
    "editable": true
   },
   "outputs": [],
   "source": [
    "def difFun(b1, b2):\n",
    "    difFun = 0\n",
    "    for i, aa in enumerate(b1):\n",
    "        if b2[i] != aa:\n",
    "            difFun += 1\n",
    "    print(\"There are\",difFun,\"differences\")\n"
   ]
  },
  {
   "cell_type": "code",
   "execution_count": null,
   "metadata": {
    "collapsed": false,
    "deletable": true,
    "editable": true
   },
   "outputs": [],
   "source": []
  },
  {
   "cell_type": "markdown",
   "metadata": {
    "deletable": true,
    "editable": true
   },
   "source": [
    "Let's visualize these results! Choose a graph type that you think will communicate your conclusions effectively and create it using matplotlib:"
   ]
  },
  {
   "cell_type": "code",
   "execution_count": 30,
   "metadata": {
    "collapsed": true
   },
   "outputs": [],
   "source": [
    "import matplotlib.pyplot as plt"
   ]
  },
  {
   "cell_type": "code",
   "execution_count": 37,
   "metadata": {
    "collapsed": false,
    "deletable": true,
    "editable": true
   },
   "outputs": [
    {
     "data": {
      "image/png": "[encoded data removed]",
      "text/plain": [
       "<matplotlib.figure.Figure at 0x118ab0da0>"
      ]
     },
     "metadata": {},
     "output_type": "display_data"
    }
   ],
   "source": []
  },
  {
   "cell_type": "markdown",
   "metadata": {
    "deletable": true,
    "editable": true
   },
   "source": [
    "## Coding Challenge\n",
    "If you finish your project and want to try a challenge, come up with a hypothesis about which of the following species are most closely related to humans (carp, chicken, chimp, dog, eel, elephant, frog, gorilla, macaque monkey, mouse, orangutan, pig). Write out a ranked list with the species you think is most related to humans at the top.\n",
    "\n",
    "Then calculate the percent difference between the hemoglobin amino acid sequences of humans and each species to find out how close you came to the right ranking!"
   ]
  },
  {
   "cell_type": "code",
   "execution_count": null,
   "metadata": {
    "collapsed": true,
    "deletable": true,
    "editable": true
   },
   "outputs": [],
   "source": []
  }
 ],
 "metadata": {
  "kernelspec": {
   "display_name": "Python 3",
   "language": "python",
   "name": "python3"
  },
  "language_info": {
   "codemirror_mode": {
    "name": "ipython",
    "version": 3
   },
   "file_extension": ".py",
   "mimetype": "text/x-python",
   "name": "python",
   "nbconvert_exporter": "python",
   "pygments_lexer": "ipython3",
   "version": "3.5.2"
  }
 },
 "nbformat": 4,
 "nbformat_minor": 2
}
